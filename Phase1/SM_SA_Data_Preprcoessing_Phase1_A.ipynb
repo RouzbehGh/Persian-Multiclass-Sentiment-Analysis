{
  "nbformat": 4,
  "nbformat_minor": 0,
  "metadata": {
    "colab": {
      "name": "SM-SA-Data-Preprcoessing-Phase1.ipynb",
      "provenance": [],
      "collapsed_sections": []
    },
    "kernelspec": {
      "name": "python3",
      "display_name": "Python 3"
    },
    "language_info": {
      "name": "python"
    }
  },
  "cells": [
    {
      "cell_type": "code",
      "metadata": {
        "colab": {
          "base_uri": "https://localhost:8080/"
        },
        "id": "GHn2GEHz20gN",
        "outputId": "f8f3497e-2b12-46ab-be44-3c10e43f2953"
      },
      "source": [
        "from google.colab import drive\n",
        "drive.mount('/content/drive')"
      ],
      "execution_count": null,
      "outputs": [
        {
          "output_type": "stream",
          "text": [
            "Drive already mounted at /content/drive; to attempt to forcibly remount, call drive.mount(\"/content/drive\", force_remount=True).\n"
          ],
          "name": "stdout"
        }
      ]
    },
    {
      "cell_type": "code",
      "metadata": {
        "colab": {
          "base_uri": "https://localhost:8080/"
        },
        "id": "WGZMx_cJGJlL",
        "outputId": "9de417ff-b1db-490a-a339-2aed40ee6593"
      },
      "source": [
        "!pip install -q hazm\n",
        "!pip install -q parsivar\n",
        "!pip install -q clean-text[gpl]"
      ],
      "execution_count": null,
      "outputs": [
        {
          "output_type": "stream",
          "text": [
            "\u001b[31mERROR: parsivar 0.2.3 has requirement nltk==3.4.5, but you'll have nltk 3.3 which is incompatible.\u001b[0m\n",
            "\u001b[31mERROR: hazm 0.7.0 has requirement nltk==3.3, but you'll have nltk 3.4.5 which is incompatible.\u001b[0m\n"
          ],
          "name": "stdout"
        }
      ]
    },
    {
      "cell_type": "code",
      "metadata": {
        "id": "qWql6ggRGYHu"
      },
      "source": [
        "from hazm import *\n",
        "import hazm\n",
        "from cleantext import clean\n",
        "\n",
        "import plotly.express as px\n",
        "import plotly.graph_objects as go\n",
        "\n",
        "from tqdm.notebook import tqdm\n",
        "\n",
        "import pandas as pd\n",
        "import numpy as np\n",
        "import fileinput\n",
        "\n",
        "import argparse\n",
        "import sys\n",
        "import re\n",
        "\n",
        "import emoji\n",
        "import string"
      ],
      "execution_count": null,
      "outputs": []
    },
    {
      "cell_type": "code",
      "metadata": {
        "colab": {
          "base_uri": "https://localhost:8080/",
          "height": 424
        },
        "id": "V3SnbRw8Gcat",
        "outputId": "6c4be9d0-fe89-4208-d850-b60930b0817c"
      },
      "source": [
        "data = pd.read_excel(r'/content/drive/MyDrive/Karimi/Data/negative.xlsx')\n",
        "data"
      ],
      "execution_count": null,
      "outputs": [
        {
          "output_type": "execute_result",
          "data": {
            "text/html": [
              "<div>\n",
              "<style scoped>\n",
              "    .dataframe tbody tr th:only-of-type {\n",
              "        vertical-align: middle;\n",
              "    }\n",
              "\n",
              "    .dataframe tbody tr th {\n",
              "        vertical-align: top;\n",
              "    }\n",
              "\n",
              "    .dataframe thead th {\n",
              "        text-align: right;\n",
              "    }\n",
              "</style>\n",
              "<table border=\"1\" class=\"dataframe\">\n",
              "  <thead>\n",
              "    <tr style=\"text-align: right;\">\n",
              "      <th></th>\n",
              "      <th>review</th>\n",
              "      <th>sentiment</th>\n",
              "    </tr>\n",
              "  </thead>\n",
              "  <tbody>\n",
              "    <tr>\n",
              "      <th>0</th>\n",
              "      <td>@bisetoun @rstglili ببینا😡اول صبح غر نزن کسکشِ...</td>\n",
              "      <td>-1.0</td>\n",
              "    </tr>\n",
              "    <tr>\n",
              "      <th>1</th>\n",
              "      <td>توی مملکتی که حق رو دارند به این طبقه ویژه! می...</td>\n",
              "      <td>-1.0</td>\n",
              "    </tr>\n",
              "    <tr>\n",
              "      <th>2</th>\n",
              "      <td>لعنة اللّه علیهم 😡🤬😠 گمم نکنید😡 @Lillmeiow @Im...</td>\n",
              "      <td>-1.0</td>\n",
              "    </tr>\n",
              "    <tr>\n",
              "      <th>3</th>\n",
              "      <td>#روانی بمیر دیگه کسکش مگه ما مسخره توییم😡 @had...</td>\n",
              "      <td>-1.0</td>\n",
              "    </tr>\n",
              "    <tr>\n",
              "      <th>4</th>\n",
              "      <td>در ضمن این حاج محمود کریمی که ما میشناسیم به ه...</td>\n",
              "      <td>-1.0</td>\n",
              "    </tr>\n",
              "    <tr>\n",
              "      <th>...</th>\n",
              "      <td>...</td>\n",
              "      <td>...</td>\n",
              "    </tr>\n",
              "    <tr>\n",
              "      <th>13802</th>\n",
              "      <td>پ.ن :نسرین جون دقیقا از کدوم پیام رسان استفاده...</td>\n",
              "      <td>NaN</td>\n",
              "    </tr>\n",
              "    <tr>\n",
              "      <th>13803</th>\n",
              "      <td>عه😠😡 @dandunnazan اگه؟ کسکش تو زنمی 😡 @srmahnd...</td>\n",
              "      <td>NaN</td>\n",
              "    </tr>\n",
              "    <tr>\n",
              "      <th>13804</th>\n",
              "      <td>مجبور شدن بیان‌ طرح #مسکن_ملی راه بندازن (اسمش...</td>\n",
              "      <td>NaN</td>\n",
              "    </tr>\n",
              "    <tr>\n",
              "      <th>13805</th>\n",
              "      <td>بعد ۴سال مجبور شدن دوباره صادر کنن با کلی هزین...</td>\n",
              "      <td>NaN</td>\n",
              "    </tr>\n",
              "    <tr>\n",
              "      <th>13806</th>\n",
              "      <td>اگه میخوای بکشی شون ،چرا زجر کش میکنی لامصب ؟ ...</td>\n",
              "      <td>NaN</td>\n",
              "    </tr>\n",
              "  </tbody>\n",
              "</table>\n",
              "<p>13807 rows × 2 columns</p>\n",
              "</div>"
            ],
            "text/plain": [
              "                                                  review  sentiment\n",
              "0      @bisetoun @rstglili ببینا😡اول صبح غر نزن کسکشِ...       -1.0\n",
              "1      توی مملکتی که حق رو دارند به این طبقه ویژه! می...       -1.0\n",
              "2      لعنة اللّه علیهم 😡🤬😠 گمم نکنید😡 @Lillmeiow @Im...       -1.0\n",
              "3      #روانی بمیر دیگه کسکش مگه ما مسخره توییم😡 @had...       -1.0\n",
              "4      در ضمن این حاج محمود کریمی که ما میشناسیم به ه...       -1.0\n",
              "...                                                  ...        ...\n",
              "13802  پ.ن :نسرین جون دقیقا از کدوم پیام رسان استفاده...        NaN\n",
              "13803  عه😠😡 @dandunnazan اگه؟ کسکش تو زنمی 😡 @srmahnd...        NaN\n",
              "13804  مجبور شدن بیان‌ طرح #مسکن_ملی راه بندازن (اسمش...        NaN\n",
              "13805  بعد ۴سال مجبور شدن دوباره صادر کنن با کلی هزین...        NaN\n",
              "13806  اگه میخوای بکشی شون ،چرا زجر کش میکنی لامصب ؟ ...        NaN\n",
              "\n",
              "[13807 rows x 2 columns]"
            ]
          },
          "metadata": {
            "tags": []
          },
          "execution_count": 4
        }
      ]
    },
    {
      "cell_type": "code",
      "metadata": {
        "id": "Zfglsyy3GwIK"
      },
      "source": [
        "lemmatizer = Lemmatizer()"
      ],
      "execution_count": null,
      "outputs": []
    },
    {
      "cell_type": "code",
      "metadata": {
        "id": "CO2czIioG1nf"
      },
      "source": [
        "def remove_space(text):\n",
        "    translation_src = \"\\u200b\\u200d_-,.\\n\"\n",
        "    translation_dst = \"\\u200c\\u200f     \"\n",
        "    text = re.sub(translation_src, ' ', text)\n",
        "    text = re.sub(translation_dst, ' ', text)\n",
        "    text = re.sub('\\u200f', ' ', text)\n",
        "    return text"
      ],
      "execution_count": null,
      "outputs": []
    },
    {
      "cell_type": "code",
      "metadata": {
        "id": "LweBnr6qG2DW"
      },
      "source": [
        "def remove_punct(text):\n",
        "    text = re.sub('[0-9]+', '', text)\n",
        "    text = re.sub('[۱-۹]+', '', text)\n",
        "    return text"
      ],
      "execution_count": null,
      "outputs": []
    },
    {
      "cell_type": "code",
      "metadata": {
        "id": "_jDBDE67G4BA"
      },
      "source": [
        "def emoji(text): \n",
        "    emoji_pattern = re.compile(\"[\"\n",
        "                               u\"\\U0001F600-\\U0001F64F\"  # emoticons\n",
        "                               u\"\\U0001F300-\\U0001F5FF\"  # symbols & pictographs\n",
        "                               u\"\\U0001F680-\\U0001F6FF\"  # transport & map symbols\n",
        "                               u\"\\U0001F1E0-\\U0001F1FF\"  # flags (iOS)\n",
        "                               u\"\\U00002500-\\U00002BEF\"  # chinese char\n",
        "                               u\"\\U00002702-\\U000027B0\"\n",
        "                               u\"\\U00002702-\\U000027B0\"\n",
        "                               u\"\\U000024C2-\\U0001F251\"\n",
        "                               u\"\\U0001f926-\\U0001f937\"\n",
        "                               u\"\\U00010000-\\U0010ffff\"\n",
        "                               u\"\\u2640-\\u2642\"\n",
        "                               u\"\\u2600-\\u2B55\"\n",
        "                               u\"\\u200d\"\n",
        "                               u\"\\u23cf\"\n",
        "                               u\"\\u23e9\"\n",
        "                               u\"\\u231a\"\n",
        "                               u\"\\ufe0f\"  # dingbats\n",
        "                               u\"\\u3030\"\n",
        "                               \"]+\", flags=re.UNICODE)\n",
        "    return emoji_pattern.sub(r'', text)"
      ],
      "execution_count": null,
      "outputs": []
    },
    {
      "cell_type": "code",
      "metadata": {
        "id": "EzxZa0JpG5RA"
      },
      "source": [
        "def remove_shadda(text):\n",
        "     text = re.sub('\\u0651', '', text) #ARABIC SHADDA\n",
        "     text = re.sub('\\u064a', '', text) #ARABIC LETTER YEH  \n",
        "     text = re.sub('\\u0649', '', text) #ARABIC LETTER ALEF MAKSURA  \n",
        "     text = re.sub('\\u0652', '', text) #ARABIC SUKUN \n",
        "     text = re.sub('\\u064b', '', text) #ARABIC FATHATAN \n",
        "     text = re.sub('\\u064e', '', text) #ARABIC FATHA \n",
        "     text = re.sub('\\u0650', '', text) #ARABIC KASRA \n",
        "     text = re.sub('\\xa0',  ' ', text) #BAD SPACES \n",
        "     return text"
      ],
      "execution_count": null,
      "outputs": []
    },
    {
      "cell_type": "code",
      "metadata": {
        "id": "zJ5ysyKcG74V"
      },
      "source": [
        "data['review'] = data['review'].apply(lambda x: remove_shadda(x))"
      ],
      "execution_count": null,
      "outputs": []
    },
    {
      "cell_type": "code",
      "metadata": {
        "id": "98iK78tnG9Jn"
      },
      "source": [
        "data['review'] = data['review'].apply(lambda x: remove_punct(x))\n",
        "data['review'] = data['review'].str.replace('[{}]'.format(string.punctuation), '')\n",
        "clean = re.compile('<.*?>')"
      ],
      "execution_count": null,
      "outputs": []
    },
    {
      "cell_type": "code",
      "metadata": {
        "id": "lUS-R_e6ISs_"
      },
      "source": [
        "regex = re.compile('[a-zA-Z]')\n",
        "data['review'] = data['review'].map(lambda x: re.sub('[a-zA-Z]', '', x))\n",
        "data['review'] = data['review'].map(lambda x: re.sub(r'&',' ', x))\n",
        "data['review'] = data['review'].map(lambda x: re.sub('<[^>]+>', '', x))\n",
        "data['review'] = data['review'].map(lambda x: re.sub(' href\\s*=\\s*\\\"[^\\\"]*', '', x))\n",
        "data['review'] = data['review'].map(lambda x: re.sub('((www\\.[^\\s]+)|(https?://[^\\s]+))', 'URL', x)) # remove URLs\n",
        "data['review'] = data['review'].map(lambda x: re.sub('@[^\\s]+', 'AT_USER', x))\n",
        "data['review'] = data['review'].map(lambda x: re.sub(r'#([^\\s]+)', r'\\1', x))\n",
        "data['review'] = data['review'].apply(lambda x: remove_punct(x))\n",
        "data['review'] = data['review'].str.replace('[{}]'.format(string.punctuation), '')\n",
        "clean = re.compile('<.*?>')\n",
        "data['review'] = data['review'].map(lambda x: re.sub(clean,'', x))\n",
        "data['review'] = data['review'].map(lambda x: re.sub('\\u200c',' ', x))  "
      ],
      "execution_count": null,
      "outputs": []
    },
    {
      "cell_type": "code",
      "metadata": {
        "id": "0nBMONvjIkpF"
      },
      "source": [
        "data['review'] = data['review'].apply(lambda x: remove_space(x))"
      ],
      "execution_count": null,
      "outputs": []
    },
    {
      "cell_type": "code",
      "metadata": {
        "id": "wzH2CATqI0g5"
      },
      "source": [
        "data['review'] = data['review'].apply(lambda x: emoji(x))"
      ],
      "execution_count": null,
      "outputs": []
    },
    {
      "cell_type": "code",
      "metadata": {
        "colab": {
          "base_uri": "https://localhost:8080/"
        },
        "id": "pKb48ZaWJMQK",
        "outputId": "cc78b369-c36b-450d-dad9-f4fe15d31483"
      },
      "source": [
        "data['review']"
      ],
      "execution_count": null,
      "outputs": [
        {
          "output_type": "execute_result",
          "data": {
            "text/plain": [
              "0          ببینااول صبح غر نزن کسکش سانسورچی صبح اول صب...\n",
              "1        توی مملکتی که حق رو دارند به این طبقه ویژه مید...\n",
              "2        لعنة الله علیهم  گمم نکنید    انقدر عشق منو ای...\n",
              "3        روانی بمیر دیگه کسکش مگه ما مسخره توییم  خب بچ...\n",
              "4        در ضمن این حاج محمود کریمی که ما میشناسیم به ه...\n",
              "                               ...                        \n",
              "13802    پن نسرین جون دقیقا از کدوم پیام رسان استفاده م...\n",
              "13803    عه  اگه؟ کسکش تو زنمی   فدا سرتواللابا این طیا...\n",
              "13804    مجبور شدن بیان  طرح مسکنملی راه بندازن اسمشو ع...\n",
              "13805    بعد سال مجبور شدن دوباره صادر کنن با کلی هزینه...\n",
              "13806    اگه میخوای بکشی شون ،چرا زجر کش میکنی لامصب ؟    \n",
              "Name: review, Length: 13807, dtype: object"
            ]
          },
          "metadata": {
            "tags": []
          },
          "execution_count": 15
        }
      ]
    },
    {
      "cell_type": "code",
      "metadata": {
        "id": "Izde_J47LxRu"
      },
      "source": [
        "nan_value = float(\"NaN\")\n",
        "data.replace(\" \", nan_value, inplace=True)\n",
        "data.dropna(subset = [\"review\"], inplace=True)"
      ],
      "execution_count": null,
      "outputs": []
    },
    {
      "cell_type": "code",
      "metadata": {
        "colab": {
          "base_uri": "https://localhost:8080/"
        },
        "id": "B42YwclnL08y",
        "outputId": "6c780cdf-65dd-4916-f89d-a7e827a15355"
      },
      "source": [
        "data['review']"
      ],
      "execution_count": null,
      "outputs": [
        {
          "output_type": "execute_result",
          "data": {
            "text/plain": [
              "0          ببینااول صبح غر نزن کسکش سانسورچی صبح اول صب...\n",
              "1        توی مملکتی که حق رو دارند به این طبقه ویژه مید...\n",
              "2        لعنة الله علیهم  گمم نکنید    انقدر عشق منو ای...\n",
              "3        روانی بمیر دیگه کسکش مگه ما مسخره توییم  خب بچ...\n",
              "4        در ضمن این حاج محمود کریمی که ما میشناسیم به ه...\n",
              "                               ...                        \n",
              "13802    پن نسرین جون دقیقا از کدوم پیام رسان استفاده م...\n",
              "13803    عه  اگه؟ کسکش تو زنمی   فدا سرتواللابا این طیا...\n",
              "13804    مجبور شدن بیان  طرح مسکنملی راه بندازن اسمشو ع...\n",
              "13805    بعد سال مجبور شدن دوباره صادر کنن با کلی هزینه...\n",
              "13806    اگه میخوای بکشی شون ،چرا زجر کش میکنی لامصب ؟    \n",
              "Name: review, Length: 13804, dtype: object"
            ]
          },
          "metadata": {
            "tags": []
          },
          "execution_count": 17
        }
      ]
    },
    {
      "cell_type": "code",
      "metadata": {
        "colab": {
          "base_uri": "https://localhost:8080/",
          "height": 424
        },
        "id": "5Sv-jpMjQ2dI",
        "outputId": "d5a60e2d-2c26-4892-f307-5d3d25b82ba1"
      },
      "source": [
        "data = data.drop_duplicates(subset=['review'], keep='first')\n",
        "data = data.reset_index(drop=True)\n",
        "data"
      ],
      "execution_count": null,
      "outputs": [
        {
          "output_type": "execute_result",
          "data": {
            "text/html": [
              "<div>\n",
              "<style scoped>\n",
              "    .dataframe tbody tr th:only-of-type {\n",
              "        vertical-align: middle;\n",
              "    }\n",
              "\n",
              "    .dataframe tbody tr th {\n",
              "        vertical-align: top;\n",
              "    }\n",
              "\n",
              "    .dataframe thead th {\n",
              "        text-align: right;\n",
              "    }\n",
              "</style>\n",
              "<table border=\"1\" class=\"dataframe\">\n",
              "  <thead>\n",
              "    <tr style=\"text-align: right;\">\n",
              "      <th></th>\n",
              "      <th>review</th>\n",
              "      <th>sentiment</th>\n",
              "    </tr>\n",
              "  </thead>\n",
              "  <tbody>\n",
              "    <tr>\n",
              "      <th>0</th>\n",
              "      <td>ببینااول صبح غر نزن کسکش سانسورچی صبح اول صب...</td>\n",
              "      <td>-1.0</td>\n",
              "    </tr>\n",
              "    <tr>\n",
              "      <th>1</th>\n",
              "      <td>توی مملکتی که حق رو دارند به این طبقه ویژه مید...</td>\n",
              "      <td>-1.0</td>\n",
              "    </tr>\n",
              "    <tr>\n",
              "      <th>2</th>\n",
              "      <td>لعنة الله علیهم  گمم نکنید    انقدر عشق منو ای...</td>\n",
              "      <td>-1.0</td>\n",
              "    </tr>\n",
              "    <tr>\n",
              "      <th>3</th>\n",
              "      <td>روانی بمیر دیگه کسکش مگه ما مسخره توییم  خب بچ...</td>\n",
              "      <td>-1.0</td>\n",
              "    </tr>\n",
              "    <tr>\n",
              "      <th>4</th>\n",
              "      <td>در ضمن این حاج محمود کریمی که ما میشناسیم به ه...</td>\n",
              "      <td>-1.0</td>\n",
              "    </tr>\n",
              "    <tr>\n",
              "      <th>...</th>\n",
              "      <td>...</td>\n",
              "      <td>...</td>\n",
              "    </tr>\n",
              "    <tr>\n",
              "      <th>11074</th>\n",
              "      <td>پن نسرین جون دقیقا از کدوم پیام رسان استفاده م...</td>\n",
              "      <td>NaN</td>\n",
              "    </tr>\n",
              "    <tr>\n",
              "      <th>11075</th>\n",
              "      <td>عه  اگه؟ کسکش تو زنمی   فدا سرتواللابا این طیا...</td>\n",
              "      <td>NaN</td>\n",
              "    </tr>\n",
              "    <tr>\n",
              "      <th>11076</th>\n",
              "      <td>مجبور شدن بیان  طرح مسکنملی راه بندازن اسمشو ع...</td>\n",
              "      <td>NaN</td>\n",
              "    </tr>\n",
              "    <tr>\n",
              "      <th>11077</th>\n",
              "      <td>بعد سال مجبور شدن دوباره صادر کنن با کلی هزینه...</td>\n",
              "      <td>NaN</td>\n",
              "    </tr>\n",
              "    <tr>\n",
              "      <th>11078</th>\n",
              "      <td>اگه میخوای بکشی شون ،چرا زجر کش میکنی لامصب ؟</td>\n",
              "      <td>NaN</td>\n",
              "    </tr>\n",
              "  </tbody>\n",
              "</table>\n",
              "<p>11079 rows × 2 columns</p>\n",
              "</div>"
            ],
            "text/plain": [
              "                                                  review  sentiment\n",
              "0        ببینااول صبح غر نزن کسکش سانسورچی صبح اول صب...       -1.0\n",
              "1      توی مملکتی که حق رو دارند به این طبقه ویژه مید...       -1.0\n",
              "2      لعنة الله علیهم  گمم نکنید    انقدر عشق منو ای...       -1.0\n",
              "3      روانی بمیر دیگه کسکش مگه ما مسخره توییم  خب بچ...       -1.0\n",
              "4      در ضمن این حاج محمود کریمی که ما میشناسیم به ه...       -1.0\n",
              "...                                                  ...        ...\n",
              "11074  پن نسرین جون دقیقا از کدوم پیام رسان استفاده م...        NaN\n",
              "11075  عه  اگه؟ کسکش تو زنمی   فدا سرتواللابا این طیا...        NaN\n",
              "11076  مجبور شدن بیان  طرح مسکنملی راه بندازن اسمشو ع...        NaN\n",
              "11077  بعد سال مجبور شدن دوباره صادر کنن با کلی هزینه...        NaN\n",
              "11078  اگه میخوای بکشی شون ،چرا زجر کش میکنی لامصب ؟            NaN\n",
              "\n",
              "[11079 rows x 2 columns]"
            ]
          },
          "metadata": {
            "tags": []
          },
          "execution_count": 18
        }
      ]
    },
    {
      "cell_type": "code",
      "metadata": {
        "id": "JkPXBvszQ2X7"
      },
      "source": [
        "data['comment_len_by_words'] = data['review'].apply(lambda t: len(hazm.word_tokenize(t)))"
      ],
      "execution_count": null,
      "outputs": []
    },
    {
      "cell_type": "code",
      "metadata": {
        "colab": {
          "base_uri": "https://localhost:8080/"
        },
        "id": "0mFELvlyREUy",
        "outputId": "8e445149-771d-41b5-e3cd-a66e8b8bcb56"
      },
      "source": [
        "min_max_len = data[\"comment_len_by_words\"].min(), data[\"comment_len_by_words\"].max()\n",
        "print(f'Min: {min_max_len[0]} \\tMax: {min_max_len[1]}')"
      ],
      "execution_count": null,
      "outputs": [
        {
          "output_type": "stream",
          "text": [
            "Min: 0 \tMax: 2663\n"
          ],
          "name": "stdout"
        }
      ]
    },
    {
      "cell_type": "code",
      "metadata": {
        "id": "NRRv0SGKRPuA"
      },
      "source": [
        "def data_gl_than(data, less_than=100.0, greater_than=0.0, col='comment_len_by_words'):\n",
        "    data_length = data[col].values\n",
        "\n",
        "    data_glt = sum([1 for length in data_length if greater_than < length <= less_than])\n",
        "\n",
        "    data_glt_rate = (data_glt / len(data_length)) * 100\n",
        "\n",
        "    print(f'Texts with word length of greater than {greater_than} and less than {less_than} includes {data_glt_rate:.2f}% of the whole!')"
      ],
      "execution_count": null,
      "outputs": []
    },
    {
      "cell_type": "code",
      "metadata": {
        "colab": {
          "base_uri": "https://localhost:8080/"
        },
        "id": "RrufKd9gRT9l",
        "outputId": "11ab1663-1735-45c4-c5fc-c6af17dbdaa6"
      },
      "source": [
        "data_gl_than(data, 256, 3)"
      ],
      "execution_count": null,
      "outputs": [
        {
          "output_type": "stream",
          "text": [
            "Texts with word length of greater than 3 and less than 256 includes 73.26% of the whole!\n"
          ],
          "name": "stdout"
        }
      ]
    },
    {
      "cell_type": "code",
      "metadata": {
        "id": "qVxSwuqeSk1C"
      },
      "source": [
        "minlim, maxlim = 3, 2110"
      ],
      "execution_count": null,
      "outputs": []
    },
    {
      "cell_type": "code",
      "metadata": {
        "id": "4HXRYvaBRkoI"
      },
      "source": [
        "def cleanhtml(raw_html):\n",
        "    cleanr = re.compile('<.*?>')\n",
        "    cleantext = re.sub(cleanr, '', raw_html)\n",
        "    return cleantext\n",
        "\n",
        "\n",
        "def cleaning(text):\n",
        "    text = text.strip()\n",
        "   \n",
        "    # cleaning htmls\n",
        "    text = cleanhtml(text)\n",
        "    \n",
        "    # normalizing\n",
        "    normalizer = hazm.Normalizer()\n",
        "    text = normalizer.normalize(text)\n",
        "    \n",
        "    # removing extra spaces, hashtags\n",
        "    text = re.sub(\"#\", \"\", text)\n",
        "    text = re.sub(\"\\s+\", \" \", text)\n",
        "    \n",
        "    return text"
      ],
      "execution_count": null,
      "outputs": []
    },
    {
      "cell_type": "code",
      "metadata": {
        "colab": {
          "base_uri": "https://localhost:8080/",
          "height": 223
        },
        "id": "P5JellLnRpcz",
        "outputId": "f554a0cf-a2a9-4c5d-aa6e-eb4c77e2f245"
      },
      "source": [
        "# cleaning comments\n",
        "data['cleaned_comment'] = data['review'].apply(cleaning)\n",
        "\n",
        "\n",
        "# calculate the length of comments based on their words\n",
        "data['cleaned_comment_len_by_words'] = data['cleaned_comment'].apply(lambda t: len(hazm.word_tokenize(t)))\n",
        "\n",
        "# remove comments with the length of fewer than three words\n",
        "data['cleaned_comment_len_by_words'] = data['cleaned_comment_len_by_words'].apply(lambda len_t: len_t if minlim < len_t <= maxlim else len_t)\n",
        "data = data.dropna(subset=['cleaned_comment_len_by_words'])\n",
        "data = data.reset_index(drop=True)\n",
        "data = data.drop_duplicates(subset=['cleaned_comment'], keep='first')\n",
        "\n",
        "data.head()"
      ],
      "execution_count": null,
      "outputs": [
        {
          "output_type": "execute_result",
          "data": {
            "text/html": [
              "<div>\n",
              "<style scoped>\n",
              "    .dataframe tbody tr th:only-of-type {\n",
              "        vertical-align: middle;\n",
              "    }\n",
              "\n",
              "    .dataframe tbody tr th {\n",
              "        vertical-align: top;\n",
              "    }\n",
              "\n",
              "    .dataframe thead th {\n",
              "        text-align: right;\n",
              "    }\n",
              "</style>\n",
              "<table border=\"1\" class=\"dataframe\">\n",
              "  <thead>\n",
              "    <tr style=\"text-align: right;\">\n",
              "      <th></th>\n",
              "      <th>review</th>\n",
              "      <th>sentiment</th>\n",
              "      <th>comment_len_by_words</th>\n",
              "      <th>cleaned_comment</th>\n",
              "      <th>cleaned_comment_len_by_words</th>\n",
              "    </tr>\n",
              "  </thead>\n",
              "  <tbody>\n",
              "    <tr>\n",
              "      <th>0</th>\n",
              "      <td>ببینااول صبح غر نزن کسکش سانسورچی صبح اول صب...</td>\n",
              "      <td>-1.0</td>\n",
              "      <td>26</td>\n",
              "      <td>ببینااول صبح غر نزن کسکش سانسورچی صبح اول صبح،...</td>\n",
              "      <td>25</td>\n",
              "    </tr>\n",
              "    <tr>\n",
              "      <th>1</th>\n",
              "      <td>توی مملکتی که حق رو دارند به این طبقه ویژه مید...</td>\n",
              "      <td>-1.0</td>\n",
              "      <td>324</td>\n",
              "      <td>توی مملکتی که حق رو دارند به این طبقه ویژه مید...</td>\n",
              "      <td>319</td>\n",
              "    </tr>\n",
              "    <tr>\n",
              "      <th>2</th>\n",
              "      <td>لعنة الله علیهم  گمم نکنید    انقدر عشق منو ای...</td>\n",
              "      <td>-1.0</td>\n",
              "      <td>112</td>\n",
              "      <td>لعنة الله علیهم گمم نکنید انقدر عشق منو اینور ...</td>\n",
              "      <td>111</td>\n",
              "    </tr>\n",
              "    <tr>\n",
              "      <th>3</th>\n",
              "      <td>روانی بمیر دیگه کسکش مگه ما مسخره توییم  خب بچ...</td>\n",
              "      <td>-1.0</td>\n",
              "      <td>47</td>\n",
              "      <td>روانی بمیر دیگه کسکش مگه ما مسخره توییم خب بچه...</td>\n",
              "      <td>47</td>\n",
              "    </tr>\n",
              "    <tr>\n",
              "      <th>4</th>\n",
              "      <td>در ضمن این حاج محمود کریمی که ما میشناسیم به ه...</td>\n",
              "      <td>-1.0</td>\n",
              "      <td>138</td>\n",
              "      <td>در ضمن این حاج محمود کریمی که ما میشناسیم به ه...</td>\n",
              "      <td>137</td>\n",
              "    </tr>\n",
              "  </tbody>\n",
              "</table>\n",
              "</div>"
            ],
            "text/plain": [
              "                                              review  ...  cleaned_comment_len_by_words\n",
              "0    ببینااول صبح غر نزن کسکش سانسورچی صبح اول صب...  ...                            25\n",
              "1  توی مملکتی که حق رو دارند به این طبقه ویژه مید...  ...                           319\n",
              "2  لعنة الله علیهم  گمم نکنید    انقدر عشق منو ای...  ...                           111\n",
              "3  روانی بمیر دیگه کسکش مگه ما مسخره توییم  خب بچ...  ...                            47\n",
              "4  در ضمن این حاج محمود کریمی که ما میشناسیم به ه...  ...                           137\n",
              "\n",
              "[5 rows x 5 columns]"
            ]
          },
          "metadata": {
            "tags": []
          },
          "execution_count": 25
        }
      ]
    },
    {
      "cell_type": "code",
      "metadata": {
        "colab": {
          "base_uri": "https://localhost:8080/",
          "height": 424
        },
        "id": "4v7GI-QYSv7C",
        "outputId": "13c8de58-3a77-4244-a920-4c34fb6553e3"
      },
      "source": [
        "data = data[['cleaned_comment', 'sentiment']]\n",
        "data.columns = ['review', 'sentiment']\n",
        "data"
      ],
      "execution_count": null,
      "outputs": [
        {
          "output_type": "execute_result",
          "data": {
            "text/html": [
              "<div>\n",
              "<style scoped>\n",
              "    .dataframe tbody tr th:only-of-type {\n",
              "        vertical-align: middle;\n",
              "    }\n",
              "\n",
              "    .dataframe tbody tr th {\n",
              "        vertical-align: top;\n",
              "    }\n",
              "\n",
              "    .dataframe thead th {\n",
              "        text-align: right;\n",
              "    }\n",
              "</style>\n",
              "<table border=\"1\" class=\"dataframe\">\n",
              "  <thead>\n",
              "    <tr style=\"text-align: right;\">\n",
              "      <th></th>\n",
              "      <th>review</th>\n",
              "      <th>sentiment</th>\n",
              "    </tr>\n",
              "  </thead>\n",
              "  <tbody>\n",
              "    <tr>\n",
              "      <th>0</th>\n",
              "      <td>ببینااول صبح غر نزن کسکش سانسورچی صبح اول صبح،...</td>\n",
              "      <td>-1.0</td>\n",
              "    </tr>\n",
              "    <tr>\n",
              "      <th>1</th>\n",
              "      <td>توی مملکتی که حق رو دارند به این طبقه ویژه مید...</td>\n",
              "      <td>-1.0</td>\n",
              "    </tr>\n",
              "    <tr>\n",
              "      <th>2</th>\n",
              "      <td>لعنة الله علیهم گمم نکنید انقدر عشق منو اینور ...</td>\n",
              "      <td>-1.0</td>\n",
              "    </tr>\n",
              "    <tr>\n",
              "      <th>3</th>\n",
              "      <td>روانی بمیر دیگه کسکش مگه ما مسخره توییم خب بچه...</td>\n",
              "      <td>-1.0</td>\n",
              "    </tr>\n",
              "    <tr>\n",
              "      <th>4</th>\n",
              "      <td>در ضمن این حاج محمود کریمی که ما میشناسیم به ه...</td>\n",
              "      <td>-1.0</td>\n",
              "    </tr>\n",
              "    <tr>\n",
              "      <th>...</th>\n",
              "      <td>...</td>\n",
              "      <td>...</td>\n",
              "    </tr>\n",
              "    <tr>\n",
              "      <th>11074</th>\n",
              "      <td>پن نسرین جون دقیقا از کدوم پیام رسان استفاده م...</td>\n",
              "      <td>NaN</td>\n",
              "    </tr>\n",
              "    <tr>\n",
              "      <th>11075</th>\n",
              "      <td>عه اگه؟ کسکش تو زنمی فدا سرتواللابا این طیاره ...</td>\n",
              "      <td>NaN</td>\n",
              "    </tr>\n",
              "    <tr>\n",
              "      <th>11076</th>\n",
              "      <td>مجبور شدن بیان طرح مسکنملی راه بندازن اسمشو عو...</td>\n",
              "      <td>NaN</td>\n",
              "    </tr>\n",
              "    <tr>\n",
              "      <th>11077</th>\n",
              "      <td>بعد سال مجبور شدن دوباره صادر کنن با کلی هزینه...</td>\n",
              "      <td>NaN</td>\n",
              "    </tr>\n",
              "    <tr>\n",
              "      <th>11078</th>\n",
              "      <td>اگه میخوای بکشی شون، چرا زجر کش میکنی لامصب؟</td>\n",
              "      <td>NaN</td>\n",
              "    </tr>\n",
              "  </tbody>\n",
              "</table>\n",
              "<p>11020 rows × 2 columns</p>\n",
              "</div>"
            ],
            "text/plain": [
              "                                                  review  sentiment\n",
              "0      ببینااول صبح غر نزن کسکش سانسورچی صبح اول صبح،...       -1.0\n",
              "1      توی مملکتی که حق رو دارند به این طبقه ویژه مید...       -1.0\n",
              "2      لعنة الله علیهم گمم نکنید انقدر عشق منو اینور ...       -1.0\n",
              "3      روانی بمیر دیگه کسکش مگه ما مسخره توییم خب بچه...       -1.0\n",
              "4      در ضمن این حاج محمود کریمی که ما میشناسیم به ه...       -1.0\n",
              "...                                                  ...        ...\n",
              "11074  پن نسرین جون دقیقا از کدوم پیام رسان استفاده م...        NaN\n",
              "11075  عه اگه؟ کسکش تو زنمی فدا سرتواللابا این طیاره ...        NaN\n",
              "11076  مجبور شدن بیان طرح مسکنملی راه بندازن اسمشو عو...        NaN\n",
              "11077  بعد سال مجبور شدن دوباره صادر کنن با کلی هزینه...        NaN\n",
              "11078       اگه میخوای بکشی شون، چرا زجر کش میکنی لامصب؟        NaN\n",
              "\n",
              "[11020 rows x 2 columns]"
            ]
          },
          "metadata": {
            "tags": []
          },
          "execution_count": 26
        }
      ]
    },
    {
      "cell_type": "code",
      "metadata": {
        "id": "YJSw6pTuUw_p"
      },
      "source": [
        "def clean(text):\n",
        "    intab='۱۲۳۴۵۶۷۸۹۰١٢٣٤٥٦٧٨٩٠'\n",
        "    outtab='12345678901234567890'\n",
        "    translation_table = str.maketrans(intab, outtab)\n",
        "    text = text.translate(translation_table)\n",
        "    tex = re.sub(r\"(?:\\@|https?\\://)\\s+\",\" \",text)\n",
        "    text = re.findall(r\"[A-Za-z._]+|[^A-Za-z\\W]+\",text,re.UNICODE)\n",
        "    text = ' '.join(word for word in text)\n",
        "    cleanr = re.compile('<.*?>')\n",
        "    cleanr = re.compile(r'<[^>]+>')\n",
        "    text = re.sub(cleanr,'',text)\n",
        "    text = re.sub(r\"\"\"\\d\"\"\",'',text)\n",
        "    text = re.sub('\\r?\\n','.',text)\n",
        "    text = re.sub(r\"-{3}\",'',text)\n",
        "    text = re.sub(r\"-{2}\",'',text)\n",
        "    text = re.sub(r\"\"\"\\s*\\.{3,}\"\"\",u'.',text)\n",
        "    text = re.sub(r\"\"\"\\s*\\.{2,}\"\"\",u'.',text)\n",
        "    text = re.sub(r\"\"\"\\s+(ن؟می)\\s+\"\"\",r'\\1',text)\n",
        "    text = re.sub(r\"\"\"(!){2,}\"\"\",r'\\1',text)\n",
        "    text = re.sub(r\"\"\"(/ ){2,}\"\"\",'',text)\n",
        "    text = re.sub(r\"\"\"( /){2,}\"\"\",'',text)\n",
        "    text = re.sub(r\"\"\"(//){2,}\"\"\",'',text)\n",
        "    text = re.sub(r\"\"\"(/){2,}\"\"\",'',text)\n",
        "    text = re.sub(r\"\"\"(؟){2,}\"\"\",r'\\1',text)\n",
        "    text = re.sub(r\"\"\"_+\"\"\",\"\",text)\n",
        "    text = re.sub(r\"\"\"[ ]+\"\"\",r' ',text)\n",
        "    text = re.sub(r\"\"\"([\\n]+)[\\t]*\"\"\",r'\\1',text)\n",
        "    text = re.sub(r\"\\b[a-zA-Z]\\b\", \"\", text)\n",
        "    p = re.compile(r'<.*?>')\n",
        "    #text = re.findall(r\"[^A-Za-z\\W]+\",text,re.UNICODE)\n",
        "    #text = re.sub(r\"\"\"(/){1,}\"\"\",'-',text)\n",
        "    #text = re.findall(r\"[^\\dA-Za-z\\W]+|\\d+\",text,re.UNICODE)\n",
        "    #text = ' '.join(word for word in text)\n",
        "    #text = p.sub('', text)\n",
        "    #text = re.sub(r\"\"\"\\\\d{2-3}\\s+[^\\dA-Za-z\\W]\\s+\\\\d{2-3}\"\"\",r'\\1',text)\n",
        "    #text = re.sub(r\"\"\"\\s+(ی)ها|?(?(ن))\"\"\",r'\\1',text)\n",
        "    text = re.sub(r\"\"\"product\"\"\",\"\",text)\n",
        "    text = re.sub(r\"\"\"dkp\"\"\",\"\",text)\n",
        "    text = re.sub(r\"\"\"br\"\"\",\"\",text)\n",
        "    text = re.sub(r\"\"\"mm\"\"\",\"\",text)\n",
        "    text = text.strip()\n",
        "\n",
        "    return text"
      ],
      "execution_count": null,
      "outputs": []
    },
    {
      "cell_type": "code",
      "metadata": {
        "id": "B_OC5JtpUxwI"
      },
      "source": [
        "data['review'] = data['review'].apply(lambda x: clean(x))"
      ],
      "execution_count": null,
      "outputs": []
    },
    {
      "cell_type": "code",
      "metadata": {
        "id": "tM1h0o6EfM5z"
      },
      "source": [
        "data['sentiment'] = data['sentiment'].fillna(-1)"
      ],
      "execution_count": null,
      "outputs": []
    },
    {
      "cell_type": "code",
      "metadata": {
        "colab": {
          "base_uri": "https://localhost:8080/",
          "height": 424
        },
        "id": "AOT5EvTSffwQ",
        "outputId": "2bf0a620-4f68-4b9e-a132-7fd541321d6c"
      },
      "source": [
        "data"
      ],
      "execution_count": null,
      "outputs": [
        {
          "output_type": "execute_result",
          "data": {
            "text/html": [
              "<div>\n",
              "<style scoped>\n",
              "    .dataframe tbody tr th:only-of-type {\n",
              "        vertical-align: middle;\n",
              "    }\n",
              "\n",
              "    .dataframe tbody tr th {\n",
              "        vertical-align: top;\n",
              "    }\n",
              "\n",
              "    .dataframe thead th {\n",
              "        text-align: right;\n",
              "    }\n",
              "</style>\n",
              "<table border=\"1\" class=\"dataframe\">\n",
              "  <thead>\n",
              "    <tr style=\"text-align: right;\">\n",
              "      <th></th>\n",
              "      <th>review</th>\n",
              "      <th>sentiment</th>\n",
              "    </tr>\n",
              "  </thead>\n",
              "  <tbody>\n",
              "    <tr>\n",
              "      <th>0</th>\n",
              "      <td>ببینااول صبح غر نزن کسکش سانسورچی صبح اول صبح ...</td>\n",
              "      <td>-1.0</td>\n",
              "    </tr>\n",
              "    <tr>\n",
              "      <th>1</th>\n",
              "      <td>توی مملکتی که حق رو دارند به این طبقه ویژه مید...</td>\n",
              "      <td>-1.0</td>\n",
              "    </tr>\n",
              "    <tr>\n",
              "      <th>2</th>\n",
              "      <td>لعنة الله علیهم گمم نکنید انقدر عشق منو اینور ...</td>\n",
              "      <td>-1.0</td>\n",
              "    </tr>\n",
              "    <tr>\n",
              "      <th>3</th>\n",
              "      <td>روانی بمیر دیگه کسکش مگه ما مسخره توییم خب بچه...</td>\n",
              "      <td>-1.0</td>\n",
              "    </tr>\n",
              "    <tr>\n",
              "      <th>4</th>\n",
              "      <td>در ضمن این حاج محمود کریمی که ما میشناسیم به ه...</td>\n",
              "      <td>-1.0</td>\n",
              "    </tr>\n",
              "    <tr>\n",
              "      <th>...</th>\n",
              "      <td>...</td>\n",
              "      <td>...</td>\n",
              "    </tr>\n",
              "    <tr>\n",
              "      <th>11074</th>\n",
              "      <td>پن نسرین جون دقیقا از کدوم پیام رسان استفاده م...</td>\n",
              "      <td>-1.0</td>\n",
              "    </tr>\n",
              "    <tr>\n",
              "      <th>11075</th>\n",
              "      <td>عه اگه کسکش تو زنمی فدا سرتواللابا این طیاره ه...</td>\n",
              "      <td>-1.0</td>\n",
              "    </tr>\n",
              "    <tr>\n",
              "      <th>11076</th>\n",
              "      <td>مجبور شدن بیان طرح مسکنملی راه بندازن اسمشو عو...</td>\n",
              "      <td>-1.0</td>\n",
              "    </tr>\n",
              "    <tr>\n",
              "      <th>11077</th>\n",
              "      <td>بعد سال مجبور شدن دوباره صادر کنن با کلی هزینه...</td>\n",
              "      <td>-1.0</td>\n",
              "    </tr>\n",
              "    <tr>\n",
              "      <th>11078</th>\n",
              "      <td>اگه میخوای بکشی شون چرا زجر کش میکنی لامصب</td>\n",
              "      <td>-1.0</td>\n",
              "    </tr>\n",
              "  </tbody>\n",
              "</table>\n",
              "<p>11020 rows × 2 columns</p>\n",
              "</div>"
            ],
            "text/plain": [
              "                                                  review  sentiment\n",
              "0      ببینااول صبح غر نزن کسکش سانسورچی صبح اول صبح ...       -1.0\n",
              "1      توی مملکتی که حق رو دارند به این طبقه ویژه مید...       -1.0\n",
              "2      لعنة الله علیهم گمم نکنید انقدر عشق منو اینور ...       -1.0\n",
              "3      روانی بمیر دیگه کسکش مگه ما مسخره توییم خب بچه...       -1.0\n",
              "4      در ضمن این حاج محمود کریمی که ما میشناسیم به ه...       -1.0\n",
              "...                                                  ...        ...\n",
              "11074  پن نسرین جون دقیقا از کدوم پیام رسان استفاده م...       -1.0\n",
              "11075  عه اگه کسکش تو زنمی فدا سرتواللابا این طیاره ه...       -1.0\n",
              "11076  مجبور شدن بیان طرح مسکنملی راه بندازن اسمشو عو...       -1.0\n",
              "11077  بعد سال مجبور شدن دوباره صادر کنن با کلی هزینه...       -1.0\n",
              "11078         اگه میخوای بکشی شون چرا زجر کش میکنی لامصب       -1.0\n",
              "\n",
              "[11020 rows x 2 columns]"
            ]
          },
          "metadata": {
            "tags": []
          },
          "execution_count": 30
        }
      ]
    },
    {
      "cell_type": "code",
      "metadata": {
        "id": "VUWg81z2JOWU"
      },
      "source": [
        "data.to_excel(r'/content/drive/MyDrive/Karimi/Data/new_negative.xlsx', index = False)"
      ],
      "execution_count": null,
      "outputs": []
    }
  ]
}