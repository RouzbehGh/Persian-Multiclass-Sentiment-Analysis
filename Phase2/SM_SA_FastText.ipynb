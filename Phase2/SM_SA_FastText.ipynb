{
  "nbformat": 4,
  "nbformat_minor": 0,
  "metadata": {
    "accelerator": "TPU",
    "colab": {
      "name": "SM_SA-FastText.ipynb",
      "provenance": []
    },
    "kernelspec": {
      "display_name": "Python 3",
      "name": "python3"
    },
    "language_info": {
      "name": "python"
    }
  },
  "cells": [
    {
      "cell_type": "code",
      "metadata": {
        "colab": {
          "base_uri": "https://localhost:8080/"
        },
        "id": "nXPGkT8BbfF4",
        "outputId": "12c73a94-27c0-4243-c398-594720f37529"
      },
      "source": [
        "from google.colab import drive\n",
        "drive.mount('/content/drive')"
      ],
      "execution_count": null,
      "outputs": [
        {
          "name": "stdout",
          "output_type": "stream",
          "text": [
            "Drive already mounted at /content/drive; to attempt to forcibly remount, call drive.mount(\"/content/drive\", force_remount=True).\n"
          ]
        }
      ]
    },
    {
      "cell_type": "code",
      "metadata": {
        "id": "sCvZWRXDrOM_"
      },
      "source": [
        "SEED =1234\n",
        "EMB_SIZE =300\n",
        "SEQUENCE_LEN = 128\n",
        "CLASS_NUM = 3"
      ],
      "execution_count": null,
      "outputs": []
    },
    {
      "cell_type": "code",
      "metadata": {
        "cellView": "form",
        "colab": {
          "base_uri": "https://localhost:8080/"
        },
        "id": "Eltchj2ndsFf",
        "outputId": "8d1a0354-0a78-4f06-f890-5e4978ce8113"
      },
      "source": [
        "#@title\n",
        "!pip install fasttext\n",
        "!pip install hazm\n",
        "!pip install --upgrade gensim"
      ],
      "execution_count": null,
      "outputs": [
        {
          "name": "stdout",
          "output_type": "stream",
          "text": [
            "Collecting fasttext\n",
            "  Downloading fasttext-0.9.2.tar.gz (68 kB)\n",
            "\u001b[?25l\r\u001b[K     |████▊                           | 10 kB 24.6 MB/s eta 0:00:01\r\u001b[K     |█████████▌                      | 20 kB 12.0 MB/s eta 0:00:01\r\u001b[K     |██████████████▎                 | 30 kB 8.8 MB/s eta 0:00:01\r\u001b[K     |███████████████████             | 40 kB 8.0 MB/s eta 0:00:01\r\u001b[K     |███████████████████████▉        | 51 kB 5.3 MB/s eta 0:00:01\r\u001b[K     |████████████████████████████▋   | 61 kB 5.7 MB/s eta 0:00:01\r\u001b[K     |████████████████████████████████| 68 kB 3.0 MB/s \n",
            "\u001b[?25hCollecting pybind11>=2.2\n",
            "  Using cached pybind11-2.7.1-py2.py3-none-any.whl (200 kB)\n",
            "Requirement already satisfied: setuptools>=0.7.0 in /usr/local/lib/python3.7/dist-packages (from fasttext) (57.2.0)\n",
            "Requirement already satisfied: numpy in /usr/local/lib/python3.7/dist-packages (from fasttext) (1.19.5)\n",
            "Building wheels for collected packages: fasttext\n",
            "  Building wheel for fasttext (setup.py) ... \u001b[?25l\u001b[?25hdone\n",
            "  Created wheel for fasttext: filename=fasttext-0.9.2-cp37-cp37m-linux_x86_64.whl size=3095304 sha256=154f87bc6ab658bcd02a1dca30a452ccd521ce0655f48b8af96ade2d11a18ca5\n",
            "  Stored in directory: /root/.cache/pip/wheels/4e/ca/bf/b020d2be95f7641801a6597a29c8f4f19e38f9c02a345bab9b\n",
            "Successfully built fasttext\n",
            "Installing collected packages: pybind11, fasttext\n",
            "Successfully installed fasttext-0.9.2 pybind11-2.7.1\n",
            "Collecting hazm\n",
            "  Downloading hazm-0.7.0-py3-none-any.whl (316 kB)\n",
            "\u001b[K     |████████████████████████████████| 316 kB 5.2 MB/s \n",
            "\u001b[?25hCollecting nltk==3.3\n",
            "  Downloading nltk-3.3.0.zip (1.4 MB)\n",
            "\u001b[K     |████████████████████████████████| 1.4 MB 9.8 MB/s \n",
            "\u001b[?25hCollecting libwapiti>=0.2.1\n",
            "  Downloading libwapiti-0.2.1.tar.gz (233 kB)\n",
            "\u001b[K     |████████████████████████████████| 233 kB 36.2 MB/s \n",
            "\u001b[?25hRequirement already satisfied: six in /usr/local/lib/python3.7/dist-packages (from nltk==3.3->hazm) (1.15.0)\n",
            "Building wheels for collected packages: nltk, libwapiti\n",
            "  Building wheel for nltk (setup.py) ... \u001b[?25l\u001b[?25hdone\n",
            "  Created wheel for nltk: filename=nltk-3.3-py3-none-any.whl size=1394489 sha256=1d1cb19529053dfd9e6e9da56c2cf038c84a846044cca55ca0b9a472ac513310\n",
            "  Stored in directory: /root/.cache/pip/wheels/9b/fd/0c/d92302c876e5de87ebd7fc0979d82edb93e2d8d768bf71fac4\n",
            "  Building wheel for libwapiti (setup.py) ... \u001b[?25l\u001b[?25hdone\n",
            "  Created wheel for libwapiti: filename=libwapiti-0.2.1-cp37-cp37m-linux_x86_64.whl size=153511 sha256=bd70c7dcba430874757893bce04613959b296ca54b76f9e4747f98585d1ffdf9\n",
            "  Stored in directory: /root/.cache/pip/wheels/ab/b2/5b/0fe4b8f5c0e65341e8ea7bb3f4a6ebabfe8b1ac31322392dbf\n",
            "Successfully built nltk libwapiti\n",
            "Installing collected packages: nltk, libwapiti, hazm\n",
            "  Attempting uninstall: nltk\n",
            "    Found existing installation: nltk 3.2.5\n",
            "    Uninstalling nltk-3.2.5:\n",
            "      Successfully uninstalled nltk-3.2.5\n",
            "Successfully installed hazm-0.7.0 libwapiti-0.2.1 nltk-3.3\n",
            "Requirement already satisfied: gensim in /usr/local/lib/python3.7/dist-packages (3.6.0)\n",
            "Collecting gensim\n",
            "  Downloading gensim-4.0.1-cp37-cp37m-manylinux1_x86_64.whl (23.9 MB)\n",
            "\u001b[K     |████████████████████████████████| 23.9 MB 96 kB/s \n",
            "\u001b[?25hRequirement already satisfied: numpy>=1.11.3 in /usr/local/lib/python3.7/dist-packages (from gensim) (1.19.5)\n",
            "Requirement already satisfied: smart-open>=1.8.1 in /usr/local/lib/python3.7/dist-packages (from gensim) (5.1.0)\n",
            "Requirement already satisfied: scipy>=0.18.1 in /usr/local/lib/python3.7/dist-packages (from gensim) (1.4.1)\n",
            "Installing collected packages: gensim\n",
            "  Attempting uninstall: gensim\n",
            "    Found existing installation: gensim 3.6.0\n",
            "    Uninstalling gensim-3.6.0:\n",
            "      Successfully uninstalled gensim-3.6.0\n",
            "Successfully installed gensim-4.0.1\n"
          ]
        }
      ]
    },
    {
      "cell_type": "code",
      "metadata": {
        "colab": {
          "base_uri": "https://localhost:8080/"
        },
        "id": "VGyRxR47dV5g",
        "outputId": "4eb9b3d5-8efc-4386-9840-2d4f2577f416"
      },
      "source": [
        "import fasttext \n",
        "import hazm\n",
        "import pandas as pd\n",
        "import pickle\n",
        "import numpy as np\n",
        "import gensim\n",
        "\n",
        "\n",
        "import tensorflow as tf\n",
        "from tensorflow.keras.preprocessing.text import Tokenizer\n",
        "from tensorflow.keras.preprocessing.sequence import pad_sequences\n",
        "\n",
        "from tensorflow.keras.models import Model, Sequential\n",
        "from tensorflow.keras.layers import Dense, Input, Embedding, Dropout\n",
        "from tensorflow.keras.layers import  LSTM, Bidirectional,GRU\n",
        "\n",
        "from tensorflow.keras.utils import to_categorical\n",
        "from tensorflow.keras.metrics import categorical_accuracy ,AUC\n",
        "from tensorflow.compat.v1.keras.layers import CuDNNLSTM\n",
        "from tensorflow.keras.utils import plot_model\n",
        "\n",
        "\n",
        "import matplotlib.pyplot as plot"
      ],
      "execution_count": null,
      "outputs": [
        {
          "name": "stderr",
          "output_type": "stream",
          "text": [
            "/usr/local/lib/python3.7/dist-packages/gensim/similarities/__init__.py:15: UserWarning: The gensim.similarities.levenshtein submodule is disabled, because the optional Levenshtein package <https://pypi.org/project/python-Levenshtein/> is unavailable. Install Levenhstein (e.g. `pip install python-Levenshtein`) to suppress this warning.\n",
            "  warnings.warn(msg)\n"
          ]
        }
      ]
    },
    {
      "cell_type": "code",
      "metadata": {
        "id": "waYz_T4wdMZS"
      },
      "source": [
        "#import gzip\n",
        "#import shutil\n",
        "#with gzip.open('/content/drive/MyDrive/Karimi/cc.fa.300.bin.gz', 'rb') as f_in:\n",
        "#    with open('/content/drive/MyDrive/Karimi/cc.fa.300.bin', 'wb') as f_out:\n",
        "#        shutil.copyfileobj(f_in, f_out)"
      ],
      "execution_count": null,
      "outputs": []
    },
    {
      "cell_type": "code",
      "metadata": {
        "id": "wuVXG6am6OV8"
      },
      "source": [
        "FT_EMBEDDING_PATH = '/content/drive/MyDrive/Karimi/cc.fa.300.bin'"
      ],
      "execution_count": null,
      "outputs": []
    },
    {
      "cell_type": "code",
      "metadata": {
        "colab": {
          "base_uri": "https://localhost:8080/"
        },
        "id": "EbYDR2Wmd2VC",
        "outputId": "1981a9c2-cc71-4476-d876-424993269e9a"
      },
      "source": [
        "ft_embedding = fasttext.load_model('/content/drive/MyDrive/Karimi/cc.fa.300.bin')\n",
        "len(ft_embedding.words)"
      ],
      "execution_count": null,
      "outputs": [
        {
          "name": "stderr",
          "output_type": "stream",
          "text": [
            "Warning : `load_model` does not return WordVectorModel or SupervisedModel any more, but a `FastText` object which is very similar.\n"
          ]
        },
        {
          "data": {
            "text/plain": [
              "2000000"
            ]
          },
          "execution_count": 8,
          "metadata": {
            "tags": []
          },
          "output_type": "execute_result"
        }
      ]
    },
    {
      "cell_type": "code",
      "metadata": {
        "id": "57CF6szHoMoe"
      },
      "source": [
        "def get_tokenized_data(data_name):\n",
        "    x , y= load_data(data_name)\n",
        "    tokenized_x =  [hazm.word_tokenize(sent) for sent in x]\n",
        "    return tokenized_x,y"
      ],
      "execution_count": null,
      "outputs": []
    },
    {
      "cell_type": "code",
      "metadata": {
        "colab": {
          "base_uri": "https://localhost:8080/"
        },
        "id": "4lkPnqXWelRP",
        "outputId": "a23451ad-e08c-41a5-c9c5-13fb25d315c4"
      },
      "source": [
        "def load_data_test(data_name):\n",
        "    data_test = pd.read_csv('/content/drive/MyDrive/Karimi/test.csv', index_col=None,  encoding=\"utf-8\")\n",
        "    x , y= np.asarray(data_test['review']), np.asarray(data_test['sentiment'])\n",
        "    return x,y\n",
        "\n",
        "def load_data_train(data_name):\n",
        "    data_train = pd.read_csv('/content/drive/MyDrive/Karimi/train.csv', index_col=None,  encoding=\"utf-8\")\n",
        "    x , y= np.asarray(data_train['review']), np.asarray(data_train['sentiment'])\n",
        "    return x,y\n",
        "\n",
        "def load_data_valid(data_name):\n",
        "    data_valid = pd.read_csv('/content/drive/MyDrive/Karimi/valid.csv', index_col=None,  encoding=\"utf-8\")\n",
        "    x , y= np.asarray(data_valid['review']), np.asarray(data_valid['sentiment'])\n",
        "    return x,y\n",
        "\n",
        "\n",
        "\n",
        "x_test , y_test= load_data_test('test')\n",
        "x_train , y_train= load_data_train('train')\n",
        "x_val , y_val= load_data_valid('valid')\n",
        "len(x_test), len(x_train), len(x_val)"
      ],
      "execution_count": null,
      "outputs": [
        {
          "data": {
            "text/plain": [
              "(2249, 18214, 2024)"
            ]
          },
          "execution_count": 10,
          "metadata": {
            "tags": []
          },
          "output_type": "execute_result"
        }
      ]
    },
    {
      "cell_type": "code",
      "metadata": {
        "id": "GmNq2zYgqxQX"
      },
      "source": [
        "tokenizer = Tokenizer()\n",
        "tokenizer.fit_on_texts(x_train)"
      ],
      "execution_count": null,
      "outputs": []
    },
    {
      "cell_type": "code",
      "metadata": {
        "id": "MFAWN14ltVTM"
      },
      "source": [
        "# Save tokenizer\n",
        "with open(\"/content/drive/MyDrive/Karimi/tokenizer\", 'wb') as handle:\n",
        "    pickle.dump(tokenizer, handle, protocol=pickle.HIGHEST_PROTOCOL)"
      ],
      "execution_count": null,
      "outputs": []
    },
    {
      "cell_type": "code",
      "metadata": {
        "colab": {
          "base_uri": "https://localhost:8080/"
        },
        "id": "uhoVb0F7q5_n",
        "outputId": "0d3706bf-049f-4cde-967c-a56076fa8d37"
      },
      "source": [
        "from gensim.models import FastText\n",
        "from gensim.test.utils import common_texts\n",
        "\n",
        "def train_fasttext_emb(corpus):\n",
        "    sentences = [[word for word in hazm.word_tokenize(text)] for text in corpus]\n",
        "    emb_model = FastText(sentences, vector_size=100, min_count=1)\n",
        "    emb_model.build_vocab(sentences)\n",
        "    emb_model.train(sentences, total_examples=len(corpus), epochs=10)  \n",
        "    emb_model.save(FT_EMBEDDING_PATH)\n",
        "    return emb_model\n",
        "\n",
        "# Train the embedding\n",
        "emb_model = train_fasttext_emb(x_train)\n",
        "\n",
        "# load the pretrained model\n",
        "#emb_model = FastText.load(EMBEDDING_PATH)\n",
        "\n",
        "print(emb_model.wv.most_similar('عالی'))"
      ],
      "execution_count": null,
      "outputs": [
        {
          "name": "stdout",
          "output_type": "stream",
          "text": [
            "[('عالیع', 0.9423313140869141), ('عالیعع', 0.9326892495155334), ('عالیلک', 0.9207160472869873), ('عالیی', 0.9135940670967102), ('ژنعالی', 0.9134215116500854), ('وعالی', 0.8992059826850891), ('عالیولی', 0.8949706554412842), ('عالیش', 0.8921489715576172), ('عالیشاهو', 0.8896855115890503), ('عالیمبا', 0.883955180644989)]\n"
          ]
        }
      ]
    },
    {
      "cell_type": "code",
      "metadata": {
        "id": "Bnsh2iODw5pM"
      },
      "source": [
        "def get_emb_matrix(emb_model_):\n",
        "    embedding_matrix = np.random.random((len(tokenizer.word_index)+1, emb_model_.vector_size))\n",
        "    pas = 0\n",
        "    for word,i in tokenizer.word_index.items():\n",
        "        try:\n",
        "            embedding_matrix[i] = emb_model_.wv[word]\n",
        "        except:\n",
        "            print(word)\n",
        "            pas+=1\n",
        "    return embedding_matrix\n",
        "\n",
        "embedding_matrix = get_emb_matrix(emb_model)"
      ],
      "execution_count": null,
      "outputs": []
    },
    {
      "cell_type": "code",
      "metadata": {
        "id": "lisY7hfQw-GI"
      },
      "source": [
        "def prepare_data(x , y ):\n",
        "    sequence_docs = tokenizer.texts_to_sequences(x)\n",
        "    pad_sequence_docs = pad_sequences(sequence_docs, maxlen=SEQUENCE_LEN, padding='post')\n",
        "    categorical_y = to_categorical(y, CLASS_NUM)\n",
        "    return pad_sequence_docs, categorical_y\n",
        "\n",
        "\n",
        "train_pad_sequence, train_categorical_y = prepare_data(x_train , y_train)\n",
        "val_pad_sequence, val_categorical_y = prepare_data(x_val , y_val)\n",
        "test_pad_sequence, test_categorical_y = prepare_data(x_test , y_test)"
      ],
      "execution_count": null,
      "outputs": []
    },
    {
      "cell_type": "code",
      "metadata": {
        "colab": {
          "base_uri": "https://localhost:8080/"
        },
        "id": "jknOnd16xAS-",
        "outputId": "90b3ca74-3ff6-4ed0-da33-5a30ae8842ee"
      },
      "source": [
        "#from sklearn.utils import class_weight\n",
        "import sklearn\n",
        "import numpy as np\n",
        "class_w = sklearn.utils.class_weight.compute_class_weight('balanced', np.unique(y_train) , y_train)\n",
        "class_w_dic = {}\n",
        "for i in range(len(class_w)):\n",
        "    class_w_dic[i] = class_w[i]\n",
        "    \n",
        "class_w_dic"
      ],
      "execution_count": null,
      "outputs": [
        {
          "data": {
            "text/plain": [
              "{0: 0.6821722846441948, 1: 2.3781172476824652, 2: 0.8979933934822265}"
            ]
          },
          "execution_count": 16,
          "metadata": {
            "tags": []
          },
          "output_type": "execute_result"
        }
      ]
    },
    {
      "cell_type": "code",
      "metadata": {
        "id": "5-raJ5WjxZtB"
      },
      "source": [
        "class_w_dic={0:70, 1:20, 2:10}"
      ],
      "execution_count": null,
      "outputs": []
    },
    {
      "cell_type": "code",
      "metadata": {
        "id": "ekk7u4YJxe1u"
      },
      "source": [
        "temp_model = Sequential()\n",
        "temp_model.add(Embedding(embedding_matrix.shape[0], embedding_matrix.shape[1], weights=[embedding_matrix], trainable=False))\n",
        "temp_model.add(Bidirectional(GRU(100, return_sequences=True, name='lstm_layer')))\n",
        "temp_model.add(Dropout(0.2))\n",
        "temp_model.add(Dense(50, activation=\"relu\", kernel_regularizer='l2'))\n",
        "temp_model.add(Bidirectional(GRU(50)))\n",
        "temp_model.add(Dropout(0.1))\n",
        "temp_model.add(Dense(3, activation='softmax', kernel_regularizer='l2'))"
      ],
      "execution_count": null,
      "outputs": []
    },
    {
      "cell_type": "code",
      "metadata": {
        "colab": {
          "base_uri": "https://localhost:8080/"
        },
        "id": "UnS9LEuUxliH",
        "outputId": "4e7eb10e-18eb-468e-f9d6-e3aa294e1681"
      },
      "source": [
        "#Config\n",
        "METRICS = [\n",
        "    categorical_accuracy,\n",
        "    tf.keras.metrics.AUC(name='auc'),\n",
        "    #tf.keras.metrics.AUC(name='prc', curve='PR'), # precision-recall curve\n",
        "]\n",
        "opt = tf.keras.optimizers.Adam(learning_rate=0.005)\n",
        "temp_model.compile(loss='categorical_crossentropy',\n",
        "              optimizer=opt,\n",
        "              metrics=[METRICS])\n",
        "\n",
        "temp_model.summary()"
      ],
      "execution_count": null,
      "outputs": [
        {
          "name": "stdout",
          "output_type": "stream",
          "text": [
            "Model: \"sequential\"\n",
            "_________________________________________________________________\n",
            "Layer (type)                 Output Shape              Param #   \n",
            "=================================================================\n",
            "embedding (Embedding)        (None, None, 100)         16513700  \n",
            "_________________________________________________________________\n",
            "bidirectional (Bidirectional (None, None, 200)         121200    \n",
            "_________________________________________________________________\n",
            "dropout (Dropout)            (None, None, 200)         0         \n",
            "_________________________________________________________________\n",
            "dense (Dense)                (None, None, 50)          10050     \n",
            "_________________________________________________________________\n",
            "bidirectional_1 (Bidirection (None, 100)               30600     \n",
            "_________________________________________________________________\n",
            "dropout_1 (Dropout)          (None, 100)               0         \n",
            "_________________________________________________________________\n",
            "dense_1 (Dense)              (None, 3)                 303       \n",
            "=================================================================\n",
            "Total params: 16,675,853\n",
            "Trainable params: 162,153\n",
            "Non-trainable params: 16,513,700\n",
            "_________________________________________________________________\n"
          ]
        }
      ]
    },
    {
      "cell_type": "code",
      "metadata": {
        "colab": {
          "background_save": true,
          "base_uri": "https://localhost:8080/"
        },
        "id": "UP_5kMdoxolR",
        "outputId": "61b7c902-c85b-46d4-917e-ad92e0906ddb"
      },
      "source": [
        "batch_size = 32\n",
        "epochs = 20\n",
        "history = temp_model.fit(train_pad_sequence, train_categorical_y,\n",
        "                         batch_size=batch_size, epochs=epochs, \n",
        "                         class_weight=class_w_dic,\n",
        "                         validation_data=(val_pad_sequence, val_categorical_y), shuffle=True)"
      ],
      "execution_count": null,
      "outputs": [
        {
          "name": "stdout",
          "output_type": "stream",
          "text": [
            "WARNING:tensorflow:From /usr/local/lib/python3.7/dist-packages/tensorflow/python/ops/array_ops.py:5049: calling gather (from tensorflow.python.ops.array_ops) with validate_indices is deprecated and will be removed in a future version.\n",
            "Instructions for updating:\n",
            "The `validate_indices` argument has no effect. Indices are always validated on CPU and never validated on GPU.\n",
            "Epoch 1/20\n",
            "570/570 [==============================] - 186s 311ms/step - loss: 9.6244 - categorical_accuracy: 0.7978 - auc: 0.9415 - val_loss: 0.9495 - val_categorical_accuracy: 0.8528 - val_auc: 0.9673\n",
            "Epoch 2/20\n",
            "570/570 [==============================] - 171s 300ms/step - loss: 7.0952 - categorical_accuracy: 0.8574 - auc: 0.9684 - val_loss: 0.9987 - val_categorical_accuracy: 0.8330 - val_auc: 0.9587\n",
            "Epoch 3/20\n",
            "570/570 [==============================] - 170s 299ms/step - loss: 6.3956 - categorical_accuracy: 0.8752 - auc: 0.9748 - val_loss: 0.9274 - val_categorical_accuracy: 0.8666 - val_auc: 0.9735\n",
            "Epoch 4/20\n",
            "570/570 [==============================] - 170s 297ms/step - loss: 6.1545 - categorical_accuracy: 0.8783 - auc: 0.9771 - val_loss: 1.0950 - val_categorical_accuracy: 0.8177 - val_auc: 0.9541\n",
            "Epoch 5/20\n",
            "570/570 [==============================] - 170s 298ms/step - loss: 5.7748 - categorical_accuracy: 0.8828 - auc: 0.9795 - val_loss: 0.9662 - val_categorical_accuracy: 0.8533 - val_auc: 0.9709\n",
            "Epoch 6/20\n",
            "570/570 [==============================] - 170s 298ms/step - loss: 5.5315 - categorical_accuracy: 0.8885 - auc: 0.9808 - val_loss: 0.9583 - val_categorical_accuracy: 0.8528 - val_auc: 0.9690\n",
            "Epoch 7/20\n",
            "570/570 [==============================] - 170s 298ms/step - loss: 5.5564 - categorical_accuracy: 0.8859 - auc: 0.9806 - val_loss: 0.9005 - val_categorical_accuracy: 0.8646 - val_auc: 0.9740\n",
            "Epoch 8/20\n",
            "570/570 [==============================] - 167s 293ms/step - loss: 5.3998 - categorical_accuracy: 0.8899 - auc: 0.9816 - val_loss: 0.9204 - val_categorical_accuracy: 0.8562 - val_auc: 0.9672\n",
            "Epoch 9/20\n",
            "570/570 [==============================] - 165s 289ms/step - loss: 5.3054 - categorical_accuracy: 0.8911 - auc: 0.9820 - val_loss: 0.8983 - val_categorical_accuracy: 0.8626 - val_auc: 0.9723\n",
            "Epoch 10/20\n",
            "570/570 [==============================] - 164s 288ms/step - loss: 5.2148 - categorical_accuracy: 0.8921 - auc: 0.9824 - val_loss: 0.9108 - val_categorical_accuracy: 0.8587 - val_auc: 0.9704\n",
            "Epoch 11/20\n",
            "570/570 [==============================] - 164s 288ms/step - loss: 5.4152 - categorical_accuracy: 0.8885 - auc: 0.9814 - val_loss: 0.9489 - val_categorical_accuracy: 0.8409 - val_auc: 0.9641\n",
            "Epoch 12/20\n",
            "570/570 [==============================] - 164s 289ms/step - loss: 5.4729 - categorical_accuracy: 0.8866 - auc: 0.9811 - val_loss: 0.9432 - val_categorical_accuracy: 0.8424 - val_auc: 0.9688\n",
            "Epoch 13/20\n",
            "570/570 [==============================] - 164s 288ms/step - loss: 5.1434 - categorical_accuracy: 0.8923 - auc: 0.9832 - val_loss: 0.9351 - val_categorical_accuracy: 0.8720 - val_auc: 0.9746\n",
            "Epoch 14/20\n",
            "570/570 [==============================] - 165s 290ms/step - loss: 5.1233 - categorical_accuracy: 0.8929 - auc: 0.9828 - val_loss: 0.9517 - val_categorical_accuracy: 0.8429 - val_auc: 0.9667\n",
            "Epoch 15/20\n",
            "570/570 [==============================] - 166s 291ms/step - loss: 5.1286 - categorical_accuracy: 0.8912 - auc: 0.9828 - val_loss: 0.9318 - val_categorical_accuracy: 0.8533 - val_auc: 0.9692\n",
            "Epoch 16/20\n",
            "570/570 [==============================] - 167s 293ms/step - loss: 5.0801 - categorical_accuracy: 0.8949 - auc: 0.9831 - val_loss: 1.1101 - val_categorical_accuracy: 0.7940 - val_auc: 0.9377\n",
            "Epoch 17/20\n",
            "570/570 [==============================] - 165s 290ms/step - loss: 5.2072 - categorical_accuracy: 0.8874 - auc: 0.9818 - val_loss: 0.9108 - val_categorical_accuracy: 0.8681 - val_auc: 0.9730\n",
            "Epoch 18/20\n",
            "570/570 [==============================] - 166s 292ms/step - loss: 5.1801 - categorical_accuracy: 0.8900 - auc: 0.9824 - val_loss: 0.9062 - val_categorical_accuracy: 0.8503 - val_auc: 0.9683\n",
            "Epoch 19/20\n",
            "570/570 [==============================] - 167s 293ms/step - loss: 5.2574 - categorical_accuracy: 0.8894 - auc: 0.9817 - val_loss: 0.9169 - val_categorical_accuracy: 0.8735 - val_auc: 0.9722\n",
            "Epoch 20/20\n",
            "570/570 [==============================] - 167s 293ms/step - loss: 5.2629 - categorical_accuracy: 0.8916 - auc: 0.9820 - val_loss: 1.0208 - val_categorical_accuracy: 0.8103 - val_auc: 0.9534\n"
          ]
        }
      ]
    },
    {
      "cell_type": "code",
      "metadata": {
        "colab": {
          "background_save": true
        },
        "id": "O3BHNkzT9faT",
        "outputId": "c6659608-cf56-4c96-95c9-821800bdddf4"
      },
      "source": [
        "import matplotlib.pyplot as plt\n",
        "#plt.plot(history.history['loss'] , label='train')\n",
        "plt.plot(history.history['val_loss'], label='val')\n",
        "plt.legend()\n",
        "plt.grid()\n",
        "plt.xlabel('Epoch')\n",
        "plt.ylabel('Loss')\n",
        "plt.title(\"LOSS\")\n",
        "plt.show"
      ],
      "execution_count": null,
      "outputs": [
        {
          "data": {
            "text/plain": [
              "<function matplotlib.pyplot.show>"
            ]
          },
          "execution_count": null,
          "metadata": {},
          "output_type": "execute_result"
        },
        {
          "data": {
            "image/png": "[encoded data removed]",
            "text/plain": [
              "<Figure size 432x288 with 1 Axes>"
            ]
          },
          "metadata": {},
          "output_type": "display_data"
        }
      ]
    },
    {
      "cell_type": "code",
      "metadata": {
        "id": "QU4g442h-JQs"
      },
      "source": [
        "#FIX EMB 100\n",
        "batch_size = 256\n",
        "epochs = 13\n",
        "history = temp_model.fit(train_pad_sequence, train_categorical_y,\n",
        "                         batch_size=batch_size, epochs=epochs, \n",
        "                         class_weight=class_w_dic,\n",
        "                         validation_data=(val_pad_sequence, val_categorical_y) , \n",
        "                         shuffle=True)"
      ],
      "execution_count": null,
      "outputs": []
    },
    {
      "cell_type": "code",
      "metadata": {
        "id": "y0Wg62n6-SAO"
      },
      "source": [
        "print(\"Evaluate on test data\")\n",
        "results = temp_model.evaluate(test_pad_sequence, test_categorical_y, batch_size=batch_size)\n",
        "print(\"test loss:{loss}, test acc:{acc}, test auc: {auc}\".format( loss = results[0],acc = results[1] ,auc=results[2] ))"
      ],
      "execution_count": null,
      "outputs": []
    },
    {
      "cell_type": "code",
      "metadata": {
        "id": "ulowJaJw-vfd"
      },
      "source": [
        "# on new data using `predict`\n",
        "print(\"Generate predictions for 3 samples\")\n",
        "predictions = temp_model.predict(test_pad_sequence[:3])\n",
        "print(\"predictions shape:\", predictions.shape)\n",
        "preds = np.argmax(predictions, axis = 1)\n",
        "x_test[:3] , preds"
      ],
      "execution_count": null,
      "outputs": []
    },
    {
      "cell_type": "code",
      "metadata": {
        "id": "Q7iPdM3D-0K9"
      },
      "source": [
        "import os\n",
        "\n",
        "if not os.path.exists('/content/drive/MyDrive/Karimi/models'):\n",
        "    os.makedirs('/content/drive/MyDrive/Karimi/models')\n",
        "temp_model.save('/content/drive/MyDrive/Karimi/models/model.h5'.format(emb_size=EMB_SIZE),\n",
        "    overwrite=True,\n",
        "    include_optimizer=True,\n",
        "    save_format=None,\n",
        "    signatures=None,\n",
        "    options=None,\n",
        ")"
      ],
      "execution_count": null,
      "outputs": []
    },
    {
      "cell_type": "code",
      "metadata": {
        "id": "VNHX7_hAARlO"
      },
      "source": [
        "from tensorflow.keras.models import load_model\n",
        "\n",
        "model = load_model('/content/drive/MyDrive/Karimi/models/model.h5'.format(emb_size=EMB_SIZE))"
      ],
      "execution_count": null,
      "outputs": []
    },
    {
      "cell_type": "code",
      "metadata": {
        "id": "gyKeJ6iHAOnN"
      },
      "source": [
        "print(\"Evaluate on test data\")\n",
        "results = model.evaluate(test_pad_sequence, test_categorical_y, batch_size=batch_size)\n",
        "print(\"test loss, test acc:\", results)\n",
        "predictions = model.predict(test_pad_sequence)"
      ],
      "execution_count": null,
      "outputs": []
    }
  ]
}